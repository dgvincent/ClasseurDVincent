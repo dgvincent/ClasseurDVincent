{
 "cells": [
  {
   "cell_type": "markdown",
   "metadata": {},
   "source": [
    "# Activité: La notion de variable, lecture, affectation, calculs, fonction\n",
    "\n",
    "## Étape 1: Un programme de calcul"
   ]
  },
  {
   "cell_type": "markdown",
   "metadata": {},
   "source": [
    "On considère le programme de calcul suivant écrit sous la forme d'un **algorithme** :\n",
    "\n",
    "    Lire un nombre entier x\n",
    "    Multiplier le nombre x par 2\n",
    "    Ajouter au nombre obtenu 3\n",
    "    Afficher le résultat\n",
    "\n",
    "Cet algorithme peut se programmer en langage **Python** comme ci-dessous et se lance avec la combinaison de touches du clavier **Maj+Entrée**:"
   ]
  },
  {
   "cell_type": "code",
   "execution_count": 3,
   "metadata": {},
   "outputs": [
    {
     "name": "stdout",
     "output_type": "stream",
     "text": [
      "Entrer un nombre entier x:\n",
      "10\n",
      "Le résultat est:  23\n"
     ]
    }
   ],
   "source": [
    "print(\"Entrer un nombre entier x:\")  ## affiche un message \n",
    "x=int(input())                       ## int(input()) pour un nombre entier, float(input()) pour tous les autres\n",
    "a=x*2\n",
    "b=a+3\n",
    "print(\"Le résultat est: \",b)         ## affiche un message et le résultat"
   ]
  },
  {
   "cell_type": "markdown",
   "metadata": {},
   "source": [
    "### Exercice 1: \n",
    "**Écrire en langage Python un programme demandant à l'utilisateur d'entrer la mesure de l'arête d'un cube et qui affiche le volume de celui-ci**"
   ]
  },
  {
   "cell_type": "code",
   "execution_count": 1,
   "metadata": {},
   "outputs": [
    {
     "name": "stdout",
     "output_type": "stream",
     "text": [
      "Entrer la longueur de l'arête:\n",
      "40\n",
      "Le volume du cube est:  64000.0\n"
     ]
    }
   ],
   "source": [
    "## Ecrire le programme ici\n",
    "\n",
    "print(\"Entrer la longueur de l'arête:\")\n",
    "a=float(input())\n",
    "v=a*a*a\n",
    "print(\"Le volume du cube est: \",v)"
   ]
  },
  {
   "cell_type": "markdown",
   "metadata": {},
   "source": [
    "** -- /!\\ -- Appeler le professeur pour vérifier le programme ---- **"
   ]
  },
  {
   "cell_type": "markdown",
   "metadata": {},
   "source": [
    "## Étape 2: Définition d'une fonction\n",
    "\n",
    "Le programme de calcul présenté dans l'étape 1 peut aussi s'écrire sous la forme d'une **fonction**. Le gros avantage est qu'une fois la fonction est lue dans le programme, elle peut être appelée à n'importe quel moment pour être utilisée ! De plus, cela permet de s'affranchir des commandes `input` et `print`.\n",
    "\n",
    "On fait donc deux étapes:\n",
    "* Création de la fonction à laquelle on donne un nom et lecture de celle-ci (Maj+Entrée)\n",
    "* Appel de la fonction"
   ]
  },
  {
   "cell_type": "code",
   "execution_count": 6,
   "metadata": {
    "collapsed": true
   },
   "outputs": [],
   "source": [
    "def programmecalcul(x):         ## def pour définir la fonction, son nom ensuite et sa variable d'entrée\n",
    "    a=x*2                       ## après : à la ligne précédente, on décale avec la touche Tab ->|\n",
    "    b=a+3\n",
    "    return(b)                   ## On retourne le résultat qui est la variable b"
   ]
  },
  {
   "cell_type": "markdown",
   "metadata": {},
   "source": [
    "En faisant **Maj+Entrée** sur la ligne précédente, il ne s'affiche rien ! C'est normal !! En fait, ça a permis à l'ordinateur d' \"apprendre\" la fonction *programmecalcul*. Maintenant on peut l'utiliser !"
   ]
  },
  {
   "cell_type": "code",
   "execution_count": 7,
   "metadata": {},
   "outputs": [
    {
     "data": {
      "text/plain": [
       "23"
      ]
     },
     "execution_count": 7,
     "metadata": {},
     "output_type": "execute_result"
    }
   ],
   "source": [
    "programmecalcul(10)"
   ]
  },
  {
   "cell_type": "code",
   "execution_count": 8,
   "metadata": {},
   "outputs": [
    {
     "data": {
      "text/plain": [
       "43"
      ]
     },
     "execution_count": 8,
     "metadata": {},
     "output_type": "execute_result"
    }
   ],
   "source": [
    "programmecalcul(20)"
   ]
  },
  {
   "cell_type": "markdown",
   "metadata": {},
   "source": [
    "### Exercice 2: \n",
    "**Écrire en langage Python une fonction qui permette le calcul du volume d'un cube connaissant la longueur de son arête**"
   ]
  },
  {
   "cell_type": "code",
   "execution_count": 4,
   "metadata": {
    "collapsed": true
   },
   "outputs": [],
   "source": [
    "## Ecrire la fonction ici\n",
    "\n",
    "def volumecube(a):\n",
    "    v=a*a*a\n",
    "    return(v)"
   ]
  },
  {
   "cell_type": "markdown",
   "metadata": {},
   "source": [
    "Ne pas oublier de l'apprendre à l'ordinateur avec **Maj+Entrée** ! Puis l'utiliser pour trouver le volume d'un cube d'arête 2,457 m puis d'un cube de volume 3,4 mm"
   ]
  },
  {
   "cell_type": "code",
   "execution_count": 5,
   "metadata": {},
   "outputs": [
    {
     "data": {
      "text/plain": [
       "14.832537992999997"
      ]
     },
     "execution_count": 5,
     "metadata": {},
     "output_type": "execute_result"
    }
   ],
   "source": [
    "## Montrer la réponse ici\n",
    "\n",
    "volumecube(2.457)"
   ]
  },
  {
   "cell_type": "code",
   "execution_count": 6,
   "metadata": {},
   "outputs": [
    {
     "data": {
      "text/plain": [
       "39.303999999999995"
      ]
     },
     "execution_count": 6,
     "metadata": {},
     "output_type": "execute_result"
    }
   ],
   "source": [
    "volumecube(3.4)"
   ]
  },
  {
   "cell_type": "markdown",
   "metadata": {},
   "source": [
    "**Question bonus !** Que suffit-il maintenant d'écrire pour calculer directement le volume d'un solide constitué de deux cubes superposés, l'un d'arête 2 m et l'autre d'arête 3,4 m ?"
   ]
  },
  {
   "cell_type": "code",
   "execution_count": 8,
   "metadata": {},
   "outputs": [
    {
     "data": {
      "text/plain": [
       "47.303999999999995"
      ]
     },
     "execution_count": 8,
     "metadata": {},
     "output_type": "execute_result"
    }
   ],
   "source": [
    "## Montrer la réponse ici\n",
    "\n",
    "volumecube(2)+volumecube(3.4)"
   ]
  },
  {
   "cell_type": "markdown",
   "metadata": {},
   "source": [
    "** -- /!\\ -- Appeler le professeur pour vérifier l'exercice ---- **"
   ]
  },
  {
   "cell_type": "markdown",
   "metadata": {},
   "source": [
    "## Étape 3: À vous de jouer !\n",
    "\n",
    "On se place dans un repère orthonormé $(O,I,J)$. On rappelle que la longueur du segment $[AB]$ est donnée par la formule $AB=\\sqrt{(x_B-x_A)^2+(y_B-y_A)^2}$.\n",
    "\n",
    "### Exercice 3:\n",
    "**Écrire en langage Python une fonction qui permette de calculer la longueur d'un segment connaissant les coordonnées de ses extrémités**\n",
    "\n",
    "*Aides:*\n",
    "* la racine carrée s'écrit `sqrt()`\n",
    "* un nombre $a$ au carré, c'est-à-dire $a^2$ s'écrit `a**2`\n"
   ]
  },
  {
   "cell_type": "code",
   "execution_count": 9,
   "metadata": {
    "collapsed": true
   },
   "outputs": [],
   "source": [
    "## Compléter la fonction ici\n",
    "\n",
    "from math import *          ## Pour indiquer qu'on a besoin de fonctions mathématiques\n",
    "def longueur(xA,yA,xB,yB):\n",
    "    l=sqrt((xB-xA)**2+(yB-yA)**2)\n",
    "    return(l)"
   ]
  },
  {
   "cell_type": "markdown",
   "metadata": {},
   "source": [
    "Ne pas oublier de l'apprendre à l'ordinateur avec **Maj+Entrée** ! Puis l'utiliser pour trouver la longueur du segment $[AB]$ lorsque $A(2;3)$ et $B(-5;-7)$"
   ]
  },
  {
   "cell_type": "code",
   "execution_count": 10,
   "metadata": {},
   "outputs": [
    {
     "data": {
      "text/plain": [
       "12.206555615733702"
      ]
     },
     "execution_count": 10,
     "metadata": {},
     "output_type": "execute_result"
    }
   ],
   "source": [
    "## Montrer la réponse ici\n",
    "\n",
    "longueur(2,3,-5,-7)"
   ]
  },
  {
   "cell_type": "markdown",
   "metadata": {},
   "source": [
    "Le point $M(1;-2)$ appartient-il au cercle de centre $A(5;6)$ et de rayon 8,9 ?"
   ]
  },
  {
   "cell_type": "code",
   "execution_count": 11,
   "metadata": {},
   "outputs": [
    {
     "data": {
      "text/plain": [
       "8.94427190999916"
      ]
     },
     "execution_count": 11,
     "metadata": {},
     "output_type": "execute_result"
    }
   ],
   "source": [
    "## Montrer la réponse ici\n",
    "\n",
    "\n",
    "longueur(5,6,1,-2)  ## On calcule la longueur de AM et on la compare avec le rayon ! Ici elle est supérieure au rayon, \n",
    "                    ## le point M est à l'extérieur du cercle !"
   ]
  },
  {
   "cell_type": "code",
   "execution_count": null,
   "metadata": {
    "collapsed": true
   },
   "outputs": [],
   "source": []
  }
 ],
 "metadata": {
  "kernelspec": {
   "display_name": "Python [default]",
   "language": "python",
   "name": "python3"
  },
  "language_info": {
   "codemirror_mode": {
    "name": "ipython",
    "version": 3
   },
   "file_extension": ".py",
   "mimetype": "text/x-python",
   "name": "python",
   "nbconvert_exporter": "python",
   "pygments_lexer": "ipython3",
   "version": "3.5.2"
  }
 },
 "nbformat": 4,
 "nbformat_minor": 2
}
