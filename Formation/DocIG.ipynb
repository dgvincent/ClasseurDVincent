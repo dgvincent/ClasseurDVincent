{
 "cells": [
  {
   "cell_type": "markdown",
   "metadata": {},
   "source": [
    "# Statistiques descriptives\n",
    "\n",
    "Pour calculer la moyenne d’une série, on somme ses éléments grâce à une boucle **`for x in serie`** :"
   ]
  },
  {
   "cell_type": "code",
   "execution_count": 1,
   "metadata": {
    "collapsed": true
   },
   "outputs": [],
   "source": [
    "def moyenne(serie): \n",
    "    n = len(serie)  # len() longueur de la liste\n",
    "    s=0\n",
    "    for x in serie:\n",
    "        s=s+x \n",
    "    return s/n"
   ]
  },
  {
   "cell_type": "code",
   "execution_count": 2,
   "metadata": {},
   "outputs": [
    {
     "data": {
      "text/plain": [
       "8.4"
      ]
     },
     "execution_count": 2,
     "metadata": {},
     "output_type": "execute_result"
    }
   ],
   "source": [
    "moyenne([4,5,7.8,9,34,2,-3])"
   ]
  },
  {
   "cell_type": "markdown",
   "metadata": {},
   "source": [
    "Pour déterminer la médiane, le plus simple est de commencer par trier les termes de la série en ordre croissant, grâce à l’instruction **`serie.sort()`**, qui modifie la liste serie en la triant, et de choisir ensuite le terme médian, selon la parité de l’effectif.\n",
    "\n",
    "Quand on divise deux entiers a et b, **`a % b`** et **`a//b`** renvoient respectivement le reste et le quotient dans la division euclidienne alors que **`a/b`** renvoie le quotient décimal.\n",
    "\n",
    "On rappelle que le symbole **`=`** est réservé à l’affectation, et doit être distingué du symbole **`==`** qui réalise le test d’égalité.\n",
    "\n",
    "**Attention :** en Python, on indexe à partir de **0**, donc **`serie[0]`** est le premier terme de la série, **`serie[1]`** le deuxième, etc."
   ]
  },
  {
   "cell_type": "markdown",
   "metadata": {
    "collapsed": true
   },
   "source": [
    "## Exercice: écrire une fonction mediane(serie) qui renvoie la médiane de la série"
   ]
  },
  {
   "cell_type": "code",
   "execution_count": 1,
   "metadata": {
    "collapsed": true
   },
   "outputs": [],
   "source": [
    "# Ecrire la fonction ci-dessous\n",
    "\n",
    "def mediane(serie):\n",
    "    \n",
    "    return"
   ]
  },
  {
   "cell_type": "code",
   "execution_count": null,
   "metadata": {
    "collapsed": true
   },
   "outputs": [],
   "source": [
    "# La tester sur plusieurs exemples en variant la parité du nombre de valeurs de la série\n"
   ]
  },
  {
   "cell_type": "markdown",
   "metadata": {},
   "source": [
    "## Exercice: écrire une fonction position(serie) qui renvoie, dans cet ordre, le minimum, Q1, la médiane, Q3 et le maximum de la série"
   ]
  },
  {
   "cell_type": "code",
   "execution_count": 2,
   "metadata": {
    "collapsed": true
   },
   "outputs": [],
   "source": [
    "# Ecrire la fonction ci-dessous\n",
    "\n",
    "def position(serie):\n",
    "    \n",
    "  return"
   ]
  },
  {
   "cell_type": "code",
   "execution_count": 4,
   "metadata": {
    "collapsed": true
   },
   "outputs": [],
   "source": [
    "# La tester à l'aide de la liste de 2000 valeurs entières comprises entre -50 et 50 suivante générée aléatoirement:\n",
    "import random\n",
    "L=[random.randint(-50,50) for i in range(2000)]\n",
    "position(L)"
   ]
  },
  {
   "cell_type": "markdown",
   "metadata": {
    "collapsed": true
   },
   "source": [
    "On ouvre de même le module de tracé de la bibliothèque **matplotlib** par l’instruction **`import matplotlib.pyplot as plt`** de sorte qu’on peut utiliser l’abréviation **`plt.hist`** pour la fonction de tracé d’un histogramme. Le deuxième argument de cette fonction précise le nombre de classes de l’histogramme.\n",
    "\n",
    "La commande **`plt.show()`** permet d’afficher une figure, après qu’on a exécuté toutes les commandes de tracé qu’on souhaitait."
   ]
  },
  {
   "cell_type": "code",
   "execution_count": 4,
   "metadata": {
    "scrolled": true
   },
   "outputs": [
    {
     "data": {
      "image/png": "[encoded data removed]",
      "text/plain": [
       "<matplotlib.figure.Figure at 0x10e654b00>"
      ]
     },
     "metadata": {},
     "output_type": "display_data"
    }
   ],
   "source": [
    "import matplotlib.pyplot as plt\n",
    "import random\n",
    "L = [random.randint(1,50) for i in range(10000)]\n",
    "plt.hist(L,50)\n",
    "plt.show()"
   ]
  },
  {
   "cell_type": "markdown",
   "metadata": {},
   "source": [
    "## Exercice: écrire un programme qui, à partir d'une liste de 5000 nombres entiers choisis aléatoirement entre 0 et 1000, affiche un histogramme dont l'amplitude de chaque classe est 50"
   ]
  },
  {
   "cell_type": "code",
   "execution_count": null,
   "metadata": {
    "collapsed": true
   },
   "outputs": [],
   "source": [
    "# Ecrire le programme ici\n",
    "\n"
   ]
  }
 ],
 "metadata": {
  "kernelspec": {
   "display_name": "Python [default]",
   "language": "python",
   "name": "python3"
  },
  "language_info": {
   "codemirror_mode": {
    "name": "ipython",
    "version": 3
   },
   "file_extension": ".py",
   "mimetype": "text/x-python",
   "name": "python",
   "nbconvert_exporter": "python",
   "pygments_lexer": "ipython3",
   "version": "3.5.2"
  }
 },
 "nbformat": 4,
 "nbformat_minor": 2
}
